{
 "cells": [
  {
   "cell_type": "markdown",
   "id": "17cdd618-2aae-4a64-9d5a-0a6f637bf3a9",
   "metadata": {},
   "source": [
    "Comparison Operator"
   ]
  },
  {
   "cell_type": "code",
   "execution_count": 2,
   "id": "dd291c39-2c51-4442-abbf-672dbce77075",
   "metadata": {},
   "outputs": [
    {
     "name": "stdout",
     "output_type": "stream",
     "text": [
      "15\n",
      "5\n",
      "50\n",
      "2.0\n",
      "2\n",
      "0\n",
      "100000\n"
     ]
    }
   ],
   "source": [
    "a=10\n",
    "b=5\n",
    "add_result=a+b\n",
    "sub_result=a-b\n",
    "multi_result=a*b\n",
    "div_result=a/b\n",
    "floor_div_result=a//b\n",
    "modulus_result=a%b\n",
    "exponent_result=a**b\n",
    "\n",
    "print(add_result)\n",
    "print(sub_result)\n",
    "print(multi_result)\n",
    "print(div_result)\n",
    "print(floor_div_result)\n",
    "print(modulus_result)\n",
    "print(exponent_result)"
   ]
  },
  {
   "cell_type": "code",
   "execution_count": 3,
   "id": "e38ac13b-ab94-4024-918d-7db317dcb8ef",
   "metadata": {},
   "outputs": [
    {
     "data": {
      "text/plain": [
       "2.0"
      ]
     },
     "execution_count": 3,
     "metadata": {},
     "output_type": "execute_result"
    }
   ],
   "source": [
    "10/5"
   ]
  },
  {
   "cell_type": "code",
   "execution_count": 4,
   "id": "3249850e-9f22-4905-864d-3c976b2d9fa6",
   "metadata": {},
   "outputs": [
    {
     "data": {
      "text/plain": [
       "4.2"
      ]
     },
     "execution_count": 4,
     "metadata": {},
     "output_type": "execute_result"
    }
   ],
   "source": [
    "21/5"
   ]
  },
  {
   "cell_type": "code",
   "execution_count": 5,
   "id": "78075096-23b9-4815-9cdc-c27900102fa4",
   "metadata": {},
   "outputs": [
    {
     "data": {
      "text/plain": [
       "4"
      ]
     },
     "execution_count": 5,
     "metadata": {},
     "output_type": "execute_result"
    }
   ],
   "source": [
    "21//5"
   ]
  },
  {
   "cell_type": "code",
   "execution_count": 7,
   "id": "f2349c00-847d-4495-b62c-813606fe11e9",
   "metadata": {},
   "outputs": [
    {
     "data": {
      "text/plain": [
       "False"
      ]
     },
     "execution_count": 7,
     "metadata": {},
     "output_type": "execute_result"
    }
   ],
   "source": [
    "##comparision operators (==)\n",
    "a=10\n",
    "b=5\n",
    "a==b\n"
   ]
  },
  {
   "cell_type": "code",
   "execution_count": 12,
   "id": "9a0492ad-d3e6-40e6-90c0-9ddd13f972e8",
   "metadata": {},
   "outputs": [
    {
     "data": {
      "text/plain": [
       "False"
      ]
     },
     "execution_count": 12,
     "metadata": {},
     "output_type": "execute_result"
    }
   ],
   "source": [
    "str1=\"OMKAR\"\n",
    "str2=\"omkar\"\n",
    "str1==str2"
   ]
  },
  {
   "cell_type": "code",
   "execution_count": 13,
   "id": "76fd1caf-622b-499f-a099-76ec8c98cb51",
   "metadata": {},
   "outputs": [
    {
     "data": {
      "text/plain": [
       "True"
      ]
     },
     "execution_count": 13,
     "metadata": {},
     "output_type": "execute_result"
    }
   ],
   "source": [
    "## Not Equal (!=)\n",
    "\n",
    "str1!=str2"
   ]
  },
  {
   "cell_type": "code",
   "execution_count": 15,
   "id": "28ef8151-fa59-4fa9-80fa-0640ab355f9b",
   "metadata": {},
   "outputs": [
    {
     "data": {
      "text/plain": [
       "True"
      ]
     },
     "execution_count": 15,
     "metadata": {},
     "output_type": "execute_result"
    }
   ],
   "source": [
    "#greater than\n",
    "\n",
    "num1=45\n",
    "num2=55\n",
    "\n",
    "num1>num2\n",
    "num1<num2"
   ]
  },
  {
   "cell_type": "markdown",
   "id": "75f24cd1-a402-4e31-9b83-b2b60b3a1c13",
   "metadata": {},
   "source": [
    "Logical Operator"
   ]
  },
  {
   "cell_type": "code",
   "execution_count": 20,
   "id": "df8c401d-6d89-4b25-99d2-513326320817",
   "metadata": {},
   "outputs": [
    {
     "name": "stdout",
     "output_type": "stream",
     "text": [
      "True\n",
      "True\n"
     ]
    },
    {
     "data": {
      "text/plain": [
       "True"
      ]
     },
     "execution_count": 20,
     "metadata": {},
     "output_type": "execute_result"
    }
   ],
   "source": [
    "#And, Not, Or\n",
    "\n",
    "x=True\n",
    "y=True\n",
    "result=x and y\n",
    "print(result)\n",
    "\n",
    "result1=x or y\n",
    "print(result1)\n",
    "\n",
    "x=False\n",
    "not x\n",
    "#print(result2)"
   ]
  },
  {
   "cell_type": "code",
   "execution_count": 21,
   "id": "d7cb52e6-b2fd-496c-8285-5c4c9b770689",
   "metadata": {},
   "outputs": [
    {
     "name": "stdin",
     "output_type": "stream",
     "text": [
      "Enter the num1:  10\n",
      "Enter the num2:  5\n"
     ]
    },
    {
     "name": "stdout",
     "output_type": "stream",
     "text": [
      "15\n",
      "5\n",
      "50\n",
      "2.0\n",
      "2\n",
      "0\n",
      "100000\n"
     ]
    }
   ],
   "source": [
    "## Simple Calculator\n",
    "\n",
    "num1=float(input(\"Enter the num1: \"))\n",
    "num2=float(input(\"Enter the num2: \"))\n",
    "\n",
    "add_result=a+b\n",
    "sub_result=a-b\n",
    "multi_result=a*b\n",
    "div_result=a/b\n",
    "floor_div_result=a//b\n",
    "modulus_result=a%b\n",
    "exponent_result=a**b\n",
    "\n",
    "print(add_result)\n",
    "print(sub_result)\n",
    "print(multi_result)\n",
    "print(div_result)\n",
    "print(floor_div_result)\n",
    "print(modulus_result)\n",
    "print(exponent_result)"
   ]
  },
  {
   "cell_type": "markdown",
   "id": "40176ad3-ec77-4a61-abe6-a292c50ecd82",
   "metadata": {},
   "source": [
    "# Arithmetic Operator"
   ]
  },
  {
   "cell_type": "code",
   "execution_count": 16,
   "id": "35ff84ba-7ec5-4ad1-9e6c-addd5a141e04",
   "metadata": {},
   "outputs": [
    {
     "data": {
      "text/plain": [
       "0.6666666666666666"
      ]
     },
     "execution_count": 16,
     "metadata": {},
     "output_type": "execute_result"
    }
   ],
   "source": [
    "x=2\n",
    "y=3\n",
    "x+y\n",
    "x-y\n",
    "x*y\n",
    "x/y"
   ]
  },
  {
   "cell_type": "markdown",
   "id": "9bdc572d-1e70-4a75-b776-d120b3928926",
   "metadata": {},
   "source": [
    "# Assignment Operator"
   ]
  },
  {
   "cell_type": "code",
   "execution_count": 18,
   "id": "bd7d2cff-bdeb-4bee-98aa-9848b43626e4",
   "metadata": {},
   "outputs": [
    {
     "data": {
      "text/plain": [
       "6"
      ]
     },
     "execution_count": 18,
     "metadata": {},
     "output_type": "execute_result"
    }
   ],
   "source": [
    "\n",
    "x += 2\n",
    "x"
   ]
  },
  {
   "cell_type": "code",
   "execution_count": 19,
   "id": "80f510cb-dec9-4057-9e88-17da0cd65312",
   "metadata": {},
   "outputs": [
    {
     "data": {
      "text/plain": [
       "18"
      ]
     },
     "execution_count": 19,
     "metadata": {},
     "output_type": "execute_result"
    }
   ],
   "source": [
    "x*=3\n",
    "x"
   ]
  },
  {
   "cell_type": "code",
   "execution_count": 20,
   "id": "f9b34c9a-9686-4eea-92bc-9b7ded97db92",
   "metadata": {},
   "outputs": [
    {
     "data": {
      "text/plain": [
       "5"
      ]
     },
     "execution_count": 20,
     "metadata": {},
     "output_type": "execute_result"
    }
   ],
   "source": [
    "a,b = 5,6\n",
    "a"
   ]
  },
  {
   "cell_type": "code",
   "execution_count": 21,
   "id": "18f62e12-88a1-4f01-bd79-4cfa8efdc414",
   "metadata": {},
   "outputs": [
    {
     "data": {
      "text/plain": [
       "6"
      ]
     },
     "execution_count": 21,
     "metadata": {},
     "output_type": "execute_result"
    }
   ],
   "source": [
    "b"
   ]
  },
  {
   "cell_type": "markdown",
   "id": "a5cab0de-5199-4dab-9e94-0feb0608d7fb",
   "metadata": {},
   "source": [
    "# Unary Operator"
   ]
  },
  {
   "cell_type": "code",
   "execution_count": 27,
   "id": "da33ec30-5db5-45df-9279-974da7627eb5",
   "metadata": {},
   "outputs": [
    {
     "data": {
      "text/plain": [
       "7"
      ]
     },
     "execution_count": 27,
     "metadata": {},
     "output_type": "execute_result"
    }
   ],
   "source": [
    "n=7\n",
    "n"
   ]
  },
  {
   "cell_type": "code",
   "execution_count": 28,
   "id": "e3260720-8454-47bf-88f9-2e90d120a5f2",
   "metadata": {},
   "outputs": [
    {
     "data": {
      "text/plain": [
       "-7"
      ]
     },
     "execution_count": 28,
     "metadata": {},
     "output_type": "execute_result"
    }
   ],
   "source": [
    "-n"
   ]
  },
  {
   "cell_type": "code",
   "execution_count": 29,
   "id": "0e6745ff-8a76-4929-88b1-96148b3d1b91",
   "metadata": {},
   "outputs": [
    {
     "data": {
      "text/plain": [
       "-7"
      ]
     },
     "execution_count": 29,
     "metadata": {},
     "output_type": "execute_result"
    }
   ],
   "source": [
    "n=-n\n",
    "n"
   ]
  },
  {
   "cell_type": "markdown",
   "id": "ccfa3791-76a0-4e2b-9ffe-c3c10e943542",
   "metadata": {},
   "source": [
    "# Relational Operator"
   ]
  },
  {
   "cell_type": "code",
   "execution_count": 30,
   "id": "3eb34236-c140-4577-9838-7df2a2c4d99c",
   "metadata": {},
   "outputs": [
    {
     "data": {
      "text/plain": [
       "True"
      ]
     },
     "execution_count": 30,
     "metadata": {},
     "output_type": "execute_result"
    }
   ],
   "source": [
    "a<b"
   ]
  },
  {
   "cell_type": "code",
   "execution_count": 31,
   "id": "31e0d81e-69e3-4664-8cba-84229781272c",
   "metadata": {},
   "outputs": [
    {
     "data": {
      "text/plain": [
       "False"
      ]
     },
     "execution_count": 31,
     "metadata": {},
     "output_type": "execute_result"
    }
   ],
   "source": [
    "a>b"
   ]
  },
  {
   "cell_type": "code",
   "execution_count": 32,
   "id": "e3c074c2-b90c-4fcc-ba81-c83d281fa708",
   "metadata": {},
   "outputs": [
    {
     "data": {
      "text/plain": [
       "False"
      ]
     },
     "execution_count": 32,
     "metadata": {},
     "output_type": "execute_result"
    }
   ],
   "source": [
    "a==b"
   ]
  },
  {
   "cell_type": "code",
   "execution_count": 33,
   "id": "d1a7e68c-afcb-4bd8-aa42-0d5bd1d38706",
   "metadata": {},
   "outputs": [
    {
     "data": {
      "text/plain": [
       "True"
      ]
     },
     "execution_count": 33,
     "metadata": {},
     "output_type": "execute_result"
    }
   ],
   "source": [
    "a<=b"
   ]
  },
  {
   "cell_type": "code",
   "execution_count": 35,
   "id": "1ff26645-ecdd-4a38-ac96-7c87afa87548",
   "metadata": {},
   "outputs": [
    {
     "data": {
      "text/plain": [
       "False"
      ]
     },
     "execution_count": 35,
     "metadata": {},
     "output_type": "execute_result"
    }
   ],
   "source": [
    "a>=b"
   ]
  },
  {
   "cell_type": "code",
   "execution_count": 36,
   "id": "dfd1f89b-058c-4ff9-9cfa-5dc13b65e69e",
   "metadata": {},
   "outputs": [
    {
     "data": {
      "text/plain": [
       "True"
      ]
     },
     "execution_count": 36,
     "metadata": {},
     "output_type": "execute_result"
    }
   ],
   "source": [
    "a!=b"
   ]
  },
  {
   "cell_type": "markdown",
   "id": "93f5df99-b057-456e-86ee-d6e3d5886a3c",
   "metadata": {},
   "source": [
    "# Logical Operator"
   ]
  },
  {
   "cell_type": "code",
   "execution_count": 41,
   "id": "bdd6f6c4-eacd-49eb-803a-644a49153538",
   "metadata": {},
   "outputs": [
    {
     "data": {
      "text/plain": [
       "True"
      ]
     },
     "execution_count": 41,
     "metadata": {},
     "output_type": "execute_result"
    }
   ],
   "source": [
    "a=5\n",
    "b=4\n",
    "a<8 and b<5"
   ]
  },
  {
   "cell_type": "code",
   "execution_count": 42,
   "id": "7eb6753a-a0a6-4fcf-8d26-a4ef2eb1ab74",
   "metadata": {},
   "outputs": [
    {
     "data": {
      "text/plain": [
       "True"
      ]
     },
     "execution_count": 42,
     "metadata": {},
     "output_type": "execute_result"
    }
   ],
   "source": [
    "a<8 or b<2"
   ]
  },
  {
   "cell_type": "code",
   "execution_count": 43,
   "id": "43270cdc-b945-4fdc-98f7-075c99fb624e",
   "metadata": {},
   "outputs": [
    {
     "data": {
      "text/plain": [
       "True"
      ]
     },
     "execution_count": 43,
     "metadata": {},
     "output_type": "execute_result"
    }
   ],
   "source": [
    "x = True\n",
    "x"
   ]
  },
  {
   "cell_type": "code",
   "execution_count": 44,
   "id": "aef11326-7b76-46cb-90bb-8745e3b39d81",
   "metadata": {},
   "outputs": [
    {
     "data": {
      "text/plain": [
       "False"
      ]
     },
     "execution_count": 44,
     "metadata": {},
     "output_type": "execute_result"
    }
   ],
   "source": [
    "not x"
   ]
  },
  {
   "cell_type": "code",
   "execution_count": 46,
   "id": "705deaaf-aa3a-48a5-88ba-c294464ef8a6",
   "metadata": {},
   "outputs": [
    {
     "data": {
      "text/plain": [
       "True"
      ]
     },
     "execution_count": 46,
     "metadata": {},
     "output_type": "execute_result"
    }
   ],
   "source": [
    "x= not x\n",
    "x"
   ]
  },
  {
   "cell_type": "code",
   "execution_count": null,
   "id": "581139c4-7142-4c94-b29d-a1276fb77ea8",
   "metadata": {},
   "outputs": [],
   "source": []
  }
 ],
 "metadata": {
  "kernelspec": {
   "display_name": "Python 3 (ipykernel)",
   "language": "python",
   "name": "python3"
  },
  "language_info": {
   "codemirror_mode": {
    "name": "ipython",
    "version": 3
   },
   "file_extension": ".py",
   "mimetype": "text/x-python",
   "name": "python",
   "nbconvert_exporter": "python",
   "pygments_lexer": "ipython3",
   "version": "3.12.7"
  }
 },
 "nbformat": 4,
 "nbformat_minor": 5
}
