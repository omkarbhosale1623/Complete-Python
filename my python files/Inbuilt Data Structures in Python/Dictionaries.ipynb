{
 "cells": [
  {
   "cell_type": "markdown",
   "id": "42d3e9b0-1e98-47ce-9672-fe4d900c0ddd",
   "metadata": {},
   "source": [
    "# Dictionaries"
   ]
  },
  {
   "cell_type": "markdown",
   "id": "1e0cba00-8e92-4789-a633-5f9106ad00a6",
   "metadata": {},
   "source": [
    "Dictionaries are unordered collections of items. They store data in key-value pairs. Keys must be unique and immutable (e.g; strings, numbers or tuples), while values can be of any type."
   ]
  },
  {
   "cell_type": "code",
   "execution_count": 1,
   "id": "c8d8493c-0896-4bcc-8fd7-5b7a17ce48c5",
   "metadata": {},
   "outputs": [
    {
     "name": "stdout",
     "output_type": "stream",
     "text": [
      "<class 'dict'>\n"
     ]
    }
   ],
   "source": [
    "empty_dict={}\n",
    "print(type(empty_dict))"
   ]
  },
  {
   "cell_type": "code",
   "execution_count": 4,
   "id": "1c552ab7-c4d4-43c9-bb0a-f8fcffbf5fd7",
   "metadata": {},
   "outputs": [
    {
     "name": "stdout",
     "output_type": "stream",
     "text": [
      "{'Name': 'Omkar', 'Age': 21, 'Grade': 86.4}\n",
      "<class 'dict'>\n"
     ]
    }
   ],
   "source": [
    "student={\"Name\":\"Omkar\", \"Age\":21, \"Grade\":86.4}\n",
    "print(student)\n",
    "print(type(student))"
   ]
  },
  {
   "cell_type": "code",
   "execution_count": 7,
   "id": "81d58062-69bc-4fdc-a3f6-59f0303be958",
   "metadata": {},
   "outputs": [
    {
     "name": "stdout",
     "output_type": "stream",
     "text": [
      "{'Name': 86.4, 'Age': 21}\n"
     ]
    }
   ],
   "source": [
    "# Single key element\n",
    "student={\"Name\":\"Omkar\", \"Age\":21, \"Name\":86.4}\n",
    "print(student)"
   ]
  },
  {
   "cell_type": "code",
   "execution_count": 8,
   "id": "977fbfe1-23f5-440b-8e52-22577bcac622",
   "metadata": {},
   "outputs": [
    {
     "name": "stdout",
     "output_type": "stream",
     "text": [
      "A\n"
     ]
    }
   ],
   "source": [
    "## Accessing the dictionary element\n",
    "student={\"Name\":\"Omkar\", \"Age\":21, \"Grade\":\"A\"}\n",
    "print(student[\"Grade\"])"
   ]
  },
  {
   "cell_type": "code",
   "execution_count": 12,
   "id": "74372e44-2655-4bc4-808b-9a8698ccac14",
   "metadata": {},
   "outputs": [
    {
     "name": "stdout",
     "output_type": "stream",
     "text": [
      "A\n",
      "None\n",
      "Not Available\n"
     ]
    }
   ],
   "source": [
    "## Accessing using get() method\n",
    "print(student.get('Grade'))\n",
    "print(student.get('last_name'))\n",
    "print(student.get('last_name',\"Not Available\"))"
   ]
  },
  {
   "cell_type": "code",
   "execution_count": 13,
   "id": "29c3dd88-5a83-41d6-9ed0-ade7742a47fa",
   "metadata": {},
   "outputs": [
    {
     "name": "stdout",
     "output_type": "stream",
     "text": [
      "{'Name': 'Omkar', 'Age': 21, 'Grade': 'A'}\n"
     ]
    }
   ],
   "source": [
    "## Modifying Dictionary Elements\n",
    "# Dictionary are the mutable, so you can add, update or delete elements\n",
    "print(student)"
   ]
  },
  {
   "cell_type": "code",
   "execution_count": 14,
   "id": "514d4078-2cf1-455d-aa28-ed41f4f49844",
   "metadata": {},
   "outputs": [
    {
     "name": "stdout",
     "output_type": "stream",
     "text": [
      "{'Name': 'Omkar', 'Age': 33, 'Grade': 'A', 'Address': 'Bharat'}\n"
     ]
    }
   ],
   "source": [
    "student[\"Age\"]=33\n",
    "student[\"Address\"]=\"Bharat\"\n",
    "print(student)"
   ]
  },
  {
   "cell_type": "code",
   "execution_count": 15,
   "id": "b8b30c4f-96fb-400c-bf67-6aec5cdd5c21",
   "metadata": {},
   "outputs": [
    {
     "name": "stdout",
     "output_type": "stream",
     "text": [
      "{'Name': 'Omkar', 'Age': 33, 'Address': 'Bharat'}\n"
     ]
    }
   ],
   "source": [
    "del student[\"Grade\"]\n",
    "print(student)"
   ]
  },
  {
   "cell_type": "code",
   "execution_count": 16,
   "id": "2ab1e415-89d6-4965-a04c-573b5caa3359",
   "metadata": {},
   "outputs": [
    {
     "name": "stdout",
     "output_type": "stream",
     "text": [
      "dict_keys(['Name', 'Age', 'Address'])\n",
      "dict_values(['Omkar', 33, 'Bharat'])\n",
      "dict_items([('Name', 'Omkar'), ('Age', 33), ('Address', 'Bharat')])\n"
     ]
    }
   ],
   "source": [
    "## Dictionary Methods\n",
    "keys=student.keys()  ##get all the types\n",
    "values=student.values()\n",
    "items=student.items()\n",
    "print(keys)\n",
    "print(values)\n",
    "print(items)"
   ]
  },
  {
   "cell_type": "code",
   "execution_count": 17,
   "id": "29f15605-461d-4fb9-8077-f9cc2c4d5cee",
   "metadata": {},
   "outputs": [
    {
     "name": "stdout",
     "output_type": "stream",
     "text": [
      "{'Name': 'Omkar', 'Age': 33, 'Address': 'Bharat'}\n",
      "{'Name': 'Omkar', 'Age': 33, 'Address': 'Bharat'}\n"
     ]
    }
   ],
   "source": [
    "## Shallow Copy\n",
    "student_copy=student\n",
    "print(student)\n",
    "print(student_copy)"
   ]
  },
  {
   "cell_type": "code",
   "execution_count": 19,
   "id": "88c4e8ac-635e-49d5-a05b-548daa1cd1e2",
   "metadata": {},
   "outputs": [
    {
     "name": "stdout",
     "output_type": "stream",
     "text": [
      "{'Name': 'Omakr2', 'Age': 33, 'Address': 'Bharat'}\n",
      "{'Name': 'Omakr2', 'Age': 33, 'Address': 'Bharat'}\n"
     ]
    }
   ],
   "source": [
    "student[\"Name\"]=\"Omakr2\"\n",
    "print(student)\n",
    "print(student_copy)"
   ]
  },
  {
   "cell_type": "code",
   "execution_count": 20,
   "id": "9839200e-f9f9-4e49-b481-d4577a506706",
   "metadata": {},
   "outputs": [
    {
     "name": "stdout",
     "output_type": "stream",
     "text": [
      "{'Name': 'Omakr2', 'Age': 33, 'Address': 'Bharat'}\n",
      "{'Name': 'Omakr2', 'Age': 33, 'Address': 'Bharat'}\n"
     ]
    }
   ],
   "source": [
    "student_copy1=student.copy()\n",
    "print(student_copy1)\n",
    "print(student)"
   ]
  },
  {
   "cell_type": "code",
   "execution_count": 21,
   "id": "ae7af25e-796c-4dcb-9138-f0e61f95ba7c",
   "metadata": {},
   "outputs": [
    {
     "name": "stdout",
     "output_type": "stream",
     "text": [
      "{'Name': 'Omakr2', 'Age': 33, 'Address': 'Bharat'}\n",
      "{'Name': 'Omakar3', 'Age': 33, 'Address': 'Bharat'}\n"
     ]
    }
   ],
   "source": [
    "student[\"Name\"]=\"Omakar3\"\n",
    "print(student_copy1)\n",
    "print(student)"
   ]
  },
  {
   "cell_type": "code",
   "execution_count": 22,
   "id": "91a09172-c202-475c-af6e-e3e9107c57a3",
   "metadata": {},
   "outputs": [
    {
     "name": "stdout",
     "output_type": "stream",
     "text": [
      "Name\n",
      "Age\n",
      "Address\n"
     ]
    }
   ],
   "source": [
    "### Iterating over Dictionaries\n",
    "## You can use loops to iterate over dictionaries, keys, values, or items\n",
    "## Iterating over keys\n",
    "\n",
    "for keys in student.keys():\n",
    "    print(keys)"
   ]
  },
  {
   "cell_type": "code",
   "execution_count": 23,
   "id": "11449c88-d721-4464-9d3d-8b27c6c595cc",
   "metadata": {},
   "outputs": [
    {
     "name": "stdout",
     "output_type": "stream",
     "text": [
      "Omakar3\n",
      "33\n",
      "Bharat\n"
     ]
    }
   ],
   "source": [
    "## Iterate over values\n",
    "for values in student.values():\n",
    "    print(values)"
   ]
  },
  {
   "cell_type": "code",
   "execution_count": 27,
   "id": "dc4186db-ae78-4967-8449-fe3a1bfefd2f",
   "metadata": {},
   "outputs": [
    {
     "name": "stdout",
     "output_type": "stream",
     "text": [
      "Address:Omakar3\n",
      "Address:33\n",
      "Address:Bharat\n"
     ]
    }
   ],
   "source": [
    "for key, values in student.items():\n",
    "    print(f\"{keys}:{values}\")"
   ]
  },
  {
   "cell_type": "code",
   "execution_count": 3,
   "id": "bd160278-f984-4d23-aae0-a0c54f30aa66",
   "metadata": {},
   "outputs": [
    {
     "ename": "SyntaxError",
     "evalue": "cannot assign to literal here. Maybe you meant '==' instead of '='? (1997651021.py, line 3)",
     "output_type": "error",
     "traceback": [
      "\u001b[1;36m  Cell \u001b[1;32mIn[3], line 3\u001b[1;36m\u001b[0m\n\u001b[1;33m    \"student1\"={\"name\":\"omkar\",\"age\":21},\u001b[0m\n\u001b[1;37m    ^\u001b[0m\n\u001b[1;31mSyntaxError\u001b[0m\u001b[1;31m:\u001b[0m cannot assign to literal here. Maybe you meant '==' instead of '='?\n"
     ]
    }
   ],
   "source": [
    "# Nested dictionaries\n",
    "student={\n",
    "    \"student1\"={\"name\":\"omkar\",\"age\":21},\n",
    "    \"student2\"= {\"name\":\"Jack\",\"age\":30}\n",
    "}\n",
    "\n",
    "print(student)"
   ]
  },
  {
   "cell_type": "code",
   "execution_count": null,
   "id": "e8accbe7-13e1-46ed-bdf1-ed8fa0a033cd",
   "metadata": {},
   "outputs": [],
   "source": []
  }
 ],
 "metadata": {
  "kernelspec": {
   "display_name": "Python 3 (ipykernel)",
   "language": "python",
   "name": "python3"
  },
  "language_info": {
   "codemirror_mode": {
    "name": "ipython",
    "version": 3
   },
   "file_extension": ".py",
   "mimetype": "text/x-python",
   "name": "python",
   "nbconvert_exporter": "python",
   "pygments_lexer": "ipython3",
   "version": "3.12.7"
  }
 },
 "nbformat": 4,
 "nbformat_minor": 5
}
