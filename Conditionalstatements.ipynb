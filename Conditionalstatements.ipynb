{
 "cells": [
  {
   "cell_type": "code",
   "execution_count": 5,
   "id": "85a3e5c1-4d2d-4904-ab68-57705bec657d",
   "metadata": {},
   "outputs": [
    {
     "name": "stdout",
     "output_type": "stream",
     "text": [
      "You are allowed to vote in the Elections\n"
     ]
    }
   ],
   "source": [
    "# if statement\n",
    "\n",
    "age=20\n",
    "\n",
    "if age>=18:\n",
    "    print(\"You are allowed to vote in the Elections\")"
   ]
  },
  {
   "cell_type": "code",
   "execution_count": 6,
   "id": "66239458-94e0-4c74-bca0-cd5a2394ed5b",
   "metadata": {},
   "outputs": [
    {
     "name": "stdout",
     "output_type": "stream",
     "text": [
      "You are Minor\n"
     ]
    }
   ],
   "source": [
    "# else statement\n",
    "# The else statement executes the block of the code if the condition in the if statement is False\n",
    "\n",
    "age=16\n",
    "\n",
    "if age>=18:\n",
    "    print(\"You are eligible for voting\")\n",
    "else:\n",
    "    print(\"You are Minor\")"
   ]
  },
  {
   "cell_type": "code",
   "execution_count": 9,
   "id": "2b567179-ed0b-4667-a5a4-47852aacc2a5",
   "metadata": {},
   "outputs": [
    {
     "name": "stdin",
     "output_type": "stream",
     "text": [
      "Enter your age:  18\n"
     ]
    },
    {
     "name": "stdout",
     "output_type": "stream",
     "text": [
      "You are an Adult\n"
     ]
    }
   ],
   "source": [
    "# elif statement\n",
    "# The elif statement allowes you to check multiple conditions. It stands for \"else if\"\n",
    "\n",
    "age=int(input(\"Enter your age: \"))\n",
    "\n",
    "if age<13:\n",
    "    print(\"You are a child\")\n",
    "elif age<18:\n",
    "    print(\"You are a teenager\")\n",
    "else:\n",
    "    print(\"You are an Adult\")"
   ]
  },
  {
   "cell_type": "code",
   "execution_count": 11,
   "id": "f7198239-28dd-4d83-b000-5d8e365c243c",
   "metadata": {},
   "outputs": [
    {
     "name": "stdin",
     "output_type": "stream",
     "text": [
      "Enter the number:  -1\n"
     ]
    },
    {
     "name": "stdout",
     "output_type": "stream",
     "text": [
      "The Number is Zero or Negative\n"
     ]
    }
   ],
   "source": [
    "# Nested conditional statements\n",
    "#you can place more than on condition inside another if, elif, else statement to create a nested conditional stament\n",
    "# number even,odd,neagative etc\n",
    "\n",
    "num=int(input(\"Enter the number: \"))\n",
    "\n",
    "if num>=0:\n",
    "    print(\"The number is positive\")\n",
    "    if num%2==0:\n",
    "        print(\"The number is even\")\n",
    "    else:\n",
    "        print(\"The number is odd\")\n",
    "else:\n",
    "    print(\"The Number is Zero or Negative\")\n",
    "        "
   ]
  },
  {
   "cell_type": "code",
   "execution_count": 25,
   "id": "7608a09c-fc49-4f2b-b3a7-bb559f52efe8",
   "metadata": {},
   "outputs": [
    {
     "name": "stdin",
     "output_type": "stream",
     "text": [
      "Enter the year:  2022\n"
     ]
    },
    {
     "name": "stdout",
     "output_type": "stream",
     "text": [
      "2022 is not a leap year\n"
     ]
    }
   ],
   "source": [
    "# Determine if a year is a leap year using nested condition statement\n",
    "\n",
    "year=int(input(\"Enter the year: \"))\n",
    "\n",
    "if year%4==0:\n",
    "    if year%100==0:\n",
    "        if year%400==0:\n",
    "            print(year,\"This year is a leap year\")\n",
    "        else:\n",
    "            print(year,\"This year is not a leap year\")\n",
    "    else:\n",
    "        print(year,\"is a leap year\")\n",
    "\n",
    "else:\n",
    "    print(year,\"is not a leap year\")"
   ]
  },
  {
   "cell_type": "code",
   "execution_count": 6,
   "id": "4a6aa735-47af-4e8f-a04d-f6db88882939",
   "metadata": {},
   "outputs": [
    {
     "name": "stdin",
     "output_type": "stream",
     "text": [
      "Enter the number 1:  12\n",
      "Enter the number 2:  5\n",
      "Enter Operations (+,-,*,/,//,%):  %\n"
     ]
    },
    {
     "name": "stdout",
     "output_type": "stream",
     "text": [
      "Result:  2.0\n"
     ]
    }
   ],
   "source": [
    "# Assignment\n",
    "# 1. Calculator simulation\n",
    "\n",
    "num1=float(input(\"Enter the number 1: \"))\n",
    "num2=float(input(\"Enter the number 2: \"))\n",
    "operation=input(\"Enter Operations (+,-,*,/,//,%): \")\n",
    "\n",
    "if operation=='+':\n",
    "    result=num1+num2\n",
    "elif operation=='-':\n",
    "    result=num1-num2\n",
    "elif operation=='*':\n",
    "    result=num1*num2\n",
    "elif operation=='/':\n",
    "    if num2!=0:\n",
    "        result=num1/num2\n",
    "    else:\n",
    "        result=\"Error! Division by Zero\"\n",
    "elif operation=='//':\n",
    "    result=num1//num2\n",
    "elif operation=='%':\n",
    "    result=num1%num2\n",
    "else:\n",
    "    result=\"Invalid ! Operation\"\n",
    "\n",
    "print(\"Result: \",result)"
   ]
  },
  {
   "cell_type": "code",
   "execution_count": 16,
   "id": "e98b7d30-8e08-44f2-b56a-7bbbcc1041d7",
   "metadata": {},
   "outputs": [
    {
     "name": "stdin",
     "output_type": "stream",
     "text": [
      "Enter the Age:  32\n",
      "Are you a Student (yes/no)? :  no\n"
     ]
    }
   ],
   "source": [
    "# 2. Determine the the ticket pricing based on age and student status\n",
    "\n",
    "age=int(input(\"Enter the Age: \"))\n",
    "is_student=input(\"Are you a Student (yes/no)? : \").lower()\n",
    "\n",
    "if age<5:\n",
    "    price=\"Free ticket\"\n",
    "elif age<=12:\n",
    "    price=\"Ticket price 10$\"\n",
    "elif age<=18:\n",
    "    if is_student == 'yes':\n",
    "        price=\"Ticket price is 12$\"\n",
    "    else:\n",
    "        price=\"Ticket price is 15$\"\n",
    "elif age<=36:\n",
    "    if is_student=='yes':\n",
    "        price=\"Ticket price is 18$\"\n",
    "    else:\n",
    "        price=\"Ticket price is 20$\"\n",
    "elif age<=65:\n",
    "    if is_student=='yes':\n",
    "        price=\"Ticket price is 22$\"\n",
    "    else:\n",
    "        price=\"Ticket price is 25$\"\n",
    "else:\n",
    "    price=\"Ticket price is 5$\"\n",
    "\n",
    "print(\"Your ticket price is:\", price)\n"
   ]
  },
  {
   "cell_type": "code",
   "execution_count": null,
   "id": "143c384f-b46c-469f-83c6-799731146d45",
   "metadata": {},
   "outputs": [],
   "source": []
  }
 ],
 "metadata": {
  "kernelspec": {
   "display_name": "Python 3 (ipykernel)",
   "language": "python",
   "name": "python3"
  },
  "language_info": {
   "codemirror_mode": {
    "name": "ipython",
    "version": 3
   },
   "file_extension": ".py",
   "mimetype": "text/x-python",
   "name": "python",
   "nbconvert_exporter": "python",
   "pygments_lexer": "ipython3",
   "version": "3.12.7"
  }
 },
 "nbformat": 4,
 "nbformat_minor": 5
}
